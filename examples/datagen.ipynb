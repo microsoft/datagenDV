{
 "cells": [
  {
   "cell_type": "markdown",
   "metadata": {},
   "source": [
    "# Datagen Walkthrough"
   ]
  },
  {
   "cell_type": "markdown",
   "metadata": {},
   "source": [
    "Usage for datagen is set as:  \n",
    "<tt>datagen.py input_yaml output_yaml</tt>\n",
    "\n",
    "The only way to pass in parameters to datagen is through the yaml"
   ]
  },
  {
   "cell_type": "markdown",
   "metadata": {},
   "source": [
    "\n",
    "## DatagenBase Class"
   ]
  },
  {
   "cell_type": "markdown",
   "metadata": {},
   "source": [
    "The DatagenBase class provides a common framework for all datagen scripts to use. \n",
    "\n",
    "DatagenBase features include:\n",
    "<ul>\n",
    "<li> Commandline arguments parsing\n",
    "<li> Provides parse_yaml() to read in input_yaml\n",
    "<ul><li> YML Class loading support </ul>\n",
    "<li> write_output() function to generate datagen outputs\n",
    "    <ul>\n",
    "    <li> Writes out self.suite to params.yml\n",
    "    <li> Optionally generates a datagen_types.h with c struct/enums/defines.\n",
    "    </ul>\n",
    "<li> Setting the random library seed from the test seed \n",
    "<li> Sets up useful debugging simlinks in the test run directory \n",
    "</ul>"
   ]
  },
  {
   "cell_type": "markdown",
   "metadata": {},
   "source": [
    "##  Basic Datagen script\n",
    "\n",
    "TODO - Give an example of how to implement and use the DatagenBase class"
   ]
  },
  {
   "cell_type": "markdown",
   "metadata": {},
   "source": [
    "##  Datagen param objects \n",
    "\n",
    "Since yml parameters can get complicated and busy, using python classes to represent them is recommended.\n",
    "\n",
    "### Dataclasses\n",
    "\n",
    "Dataclasses are more recent python feature (>3.6+) which lets you define a class variables using name, type and optionally the default value.  It autogenerates the class's init and repr functions and lets us keep the class definitions to just the important information. It is a perfect fit for loading yaml into python.\n",
    "\n",
    "Highly recommend anyone unfamiliar with dataclasses to see the official documentation: https://docs.python.org/3/library/dataclasses.html\n",
    "\n",
    "### YAMLParamsBase \n",
    "\n",
    "YAMLParamsBase is a base class which adds support for loading and dumping yaml through classes. \n",
    "\n",
    "Features include:\n",
    "<ul>\n",
    "<li> Enforces correct yaml names\n",
    "<li> Applies constructor's default values\n",
    "<li> Converts Enums from string to their specified typehint (Based on the dataclass typehint)\n",
    "<li> Add type checking (Based on the dataclass typehint)\n",
    "</ul>\n",
    "\n",
    "### dataclasses.field wrapper\n",
    "\n",
    "For convinience, there a field wrapper from yaml_params_base.py to help with dataclass fields. These are intended to make intent clearer in the context of datagen and help catch common issues. There are three directions you can specify to this wrapper.\n",
    "\n",
    "<ul>\n",
    "<li><b>'out'</b> - OUT Only. used for datagen generated parameters which have no direct control from test yml. In other words, the param will always have the default value.\n",
    "<li><b>'in'</b> - IN Only. used for parameters which are only used by datagen (datagen control parameters). The param will be tagged so write_output will not dump it to the output yml\n",
    "<li><b>'in_out'</b> - IN and OUT. default option. Used for parameters which can be set from yml and should be incluced in the final params.yml. \n",
    "</ul>\n",
    "\n",
    "Each of these take the default/initial value as an argument. "
   ]
  },
  {
   "cell_type": "markdown",
   "metadata": {},
   "source": [
    "A datagen param class for this example would look like the following:"
   ]
  },
  {
   "cell_type": "code",
   "execution_count": 1,
   "metadata": {},
   "outputs": [],
   "source": [
    "from dataclasses import dataclass\n",
    "import sys\n",
    "sys.path.append( '..' )\n",
    "import datagenDV as dg\n",
    "from enum import IntEnum\n",
    "\n",
    "class FRAME_SIZE_E(IntEnum):\n",
    "    SMALL = 1\n",
    "    TYPICAL = 2\n",
    "    WIDE = 3\n",
    "    TALL = 4\n",
    "    LARGE = 5\n",
    "    NUM_FRAMES_SIZES = 6\n",
    "\n",
    "@dataclass\n",
    "class DatagenParams(dg.YAMLParamsBase):\n",
    "    #YAML input fields\n",
    "    #yml_field(<default value>) see explanation above\n",
    "    FRAME_COUNT  : int   = dg.field(5)\n",
    "    FRAME_WIDTH  : int   = dg.field(640)\n",
    "    FRAME_HEIGHT : int   = dg.field(480)\n",
    "    ITERATIONS   : int   = dg.field(1)\n",
    "\n",
    "    #These parameters are used to generate FRAMES, so in_only_field is used\n",
    "    #Use lambda to avoid a mutable default values\n",
    "    MEM_PADDING  : list  = dg.field(lambda:[\"RAND\"], dir='in')\n",
    "    MEM_REGIONS  : list  = dg.field(lambda:[\"RAND\"], dir='in')\n",
    "\n",
    "    FRAME_SIZE   : FRAME_SIZE_E  = dg.field(\"SMALL\")\n",
    "    CONNECTION_TABLE : str = dg.field(None)\n",
    "\n",
    "    #FRAMES is generated by datagen so use out_only_field\n",
    "    FRAMES : list = dg.field(lambda:[], dir='out')"
   ]
  },
  {
   "cell_type": "markdown",
   "metadata": {},
   "source": [
    "<b>Important Note</b>:\n",
    " \n",
    "Default values should always be either immutable types or a function/class to generate the value (called a \"default factory\" by datatypes). *_param functions will notify the user if they attempt to pass in a mutable type.\n",
    "\n",
    "See this explanation of why mutable default values are problematic: https://docs.python-guide.org/writing/gotchas/#mutable-default-arguments\n",
    "\n"
   ]
  },
  {
   "cell_type": "markdown",
   "metadata": {},
   "source": [
    "### Quick Review of \"lambda\":\n",
    "\n",
    "\"lambda\" is how you can define an annoymous function in python by wrapping the creation of the mutable default values(i.e lists) in a lambda function, a new list is generated each time an object is created. The yml_field wrappers will warn users if they attempt to use mutable types. \n",
    "\n",
    "More information on lambda can be found at: https://docs.python.org/3/tutorial/controlflow.html#lambda-expressions"
   ]
  },
  {
   "cell_type": "code",
   "execution_count": 2,
   "metadata": {},
   "outputs": [
    {
     "name": "stdout",
     "output_type": "stream",
     "text": [
      "func def: type = <class 'function'> return value: ['func', 'created', 'list']\n",
      "lambda: type = <class 'function'> return value: ['lambda', 'created', 'list']\n"
     ]
    }
   ],
   "source": [
    "#Standard function definition\n",
    "def create_list1():\n",
    "    return [\"func\", \"created\", \"list\"]\n",
    "\n",
    "#Equivilent lambda function definition\n",
    "create_list2 = lambda:[\"lambda\", \"created\", \"list\"]\n",
    "\n",
    "print(f\"func def: type = {type(create_list1)} return value: {create_list1()}\")\n",
    "print(f\"lambda: type = {type(create_list2)} return value: {create_list2()}\")"
   ]
  },
  {
   "cell_type": "markdown",
   "metadata": {},
   "source": [
    "### Changes to the YAML\n",
    "\n",
    "You can use either '!' or a field named \"DatagenClass\". \"DatagenClass\" allows the YAML to be preprocessed by other scripts without knowing the full class definition.\n",
    "\n",
    "DatagenBase will automatically convert the \"DatagenClass\" field into a '!' tag before loading the yaml.\n",
    "\n",
    "The user only needs to specify the DatagenClass field and register the class in their Datagen class \\_\\_init\\_\\_() function"
   ]
  },
  {
   "cell_type": "code",
   "execution_count": 3,
   "metadata": {},
   "outputs": [],
   "source": [
    "_=\"\"\"\n",
    "datagen_test:\n",
    "  dg_params:\n",
    "    DatagenClass: DatagenParams # <-----------\n",
    "    CONNECTION_TABLE: conn-tbl-01.xml\n",
    "    ITERATIONS: 1\n",
    "    #<other params>\n",
    "\"\"\""
   ]
  },
  {
   "cell_type": "code",
   "execution_count": 4,
   "metadata": {},
   "outputs": [],
   "source": [
    "class TemplateDatagen(dg.DatagenBase):\n",
    "    def __init__(self):\n",
    "        #Call base constructor - parses args, creates debug symlinks, sets up logging\n",
    "        super().__init__(description=\"Template datagen example script\")\n",
    "        #Register python<->yaml classes. \n",
    "        #Must be after super().init and before self.parse_yaml()\n",
    "        self.yaml.register_class(DatagenParams)\n",
    "        self.parse_yaml()\n",
    "\n",
    "    def main(self):\n",
    "        dg_params = self.yaml_dict['datagen_test']['dg_params']\n",
    "        # ...\n",
    "        self.write_outputs()"
   ]
  },
  {
   "cell_type": "markdown",
   "metadata": {},
   "source": [
    "##  Auto-generating C headers for Datagen classes \n",
    "\n",
    "To avoid maintaining both a C and python version of params, DatagenBase provides an optional way to auto-generate C headers for parameters.\n",
    "\n",
    "It does this by leveraging the python ctypes library and ctypes_helper.py along with the dataclass type hints. \n",
    "\n",
    "The current flow supports constants, enums and classes."
   ]
  },
  {
   "cell_type": "markdown",
   "metadata": {},
   "source": [
    "### Constants\n",
    "\n",
    "Python constants you want to reuse in C should be tracked in a dictionary using name and value (c_defines in this example) "
   ]
  },
  {
   "cell_type": "code",
   "execution_count": 5,
   "metadata": {},
   "outputs": [],
   "source": [
    "MAX_FRAMES = 11\n",
    "NUM_MEM_PADDING = 4\n",
    "NUM_MEM_REGIONS = 6\n",
    "\n",
    "c_defines = {'MAX_FRAMES' : MAX_FRAMES,\n",
    "            'NUM_MEM_PADDING': NUM_MEM_PADDING,\n",
    "            'NUM_MEM_REGIONS': NUM_MEM_REGIONS }"
   ]
  },
  {
   "cell_type": "markdown",
   "metadata": {},
   "source": [
    "### Enums \n",
    "\n",
    "Enums to be exported to C should be tracked in a list (c_enums in this example)"
   ]
  },
  {
   "cell_type": "code",
   "execution_count": 6,
   "metadata": {},
   "outputs": [],
   "source": [
    "class MEM_REGIONS_E(IntEnum):\n",
    "    ROM = 1\n",
    "    RAM = 2\n",
    "    CD = 3\n",
    "    FLOPPY = 4\n",
    "    MAGNET_TAPE = 5\n",
    "    RAND = 6\n",
    "\n",
    "class FRAME_SIZE_E(IntEnum):\n",
    "    SMALL = 1\n",
    "    TYPICAL = 2\n",
    "    WIDE = 3\n",
    "    TALL = 4\n",
    "    LARGE = 5\n",
    "    NUM_FRAMES_SIZES = 6\n",
    "\n",
    "c_enums = [MEM_REGIONS_E,FRAME_SIZE_E]"
   ]
  },
  {
   "cell_type": "markdown",
   "metadata": {},
   "source": [
    "### Classes\n",
    "\n",
    "Since C requires a bit more information about types and lists, we need to modify our DatagenParams class.\n",
    "\n",
    "Our class should now inherit from both YAMLParamsBase and ctype.Structure. Inheiriting from ctype.Structure is used under the hood to generate the header properly for nested types. \n",
    "\n",
    " If there are lists, then the user needs to provide the type and maximum size for the list using a dictionary lookup (See clist_info_lookup below).  \n",
    "\n",
    "If a user wants specific bit widths or unsigned integers, then they should specify the field using the appropriate ctype class. (For example, ctypes.c_uint32 for unsigned 32 bit integer). If python types are specified, then generate_hfields() will convert to the default ctype equivilient.\n",
    "\n",
    "After creating the class, the user needs to call generate_hfields() on the class.\n",
    "\n",
    "See ctypes_helper.py for the conversion between ctypes types and std C types.\n",
    "\n",
    "Finally the user should track these classes as a list. (c_structs in this example)"
   ]
  },
  {
   "cell_type": "code",
   "execution_count": 7,
   "metadata": {},
   "outputs": [],
   "source": [
    "import ctypes\n",
    "@dataclass\n",
    "class Frame(dg.YAMLParamsBase, ctypes.Structure):\n",
    "    width : ctypes.c_uint32\n",
    "    height : ctypes.c_uint32\n",
    "    name : ctypes.c_wchar_p\n",
    "    chksum : ctypes.c_uint32\n",
    "    padding : ctypes.c_uint32\n",
    "    location : MEM_REGIONS_E\n",
    "\n",
    "@dataclass\n",
    "class DatagenParams(dg.YAMLParamsBase, ctypes.Structure):\n",
    "    clist_info_lookup = {}\n",
    "\n",
    "    #YAML input fields\n",
    "    FRAME_COUNT  : ctypes.c_uint32   = dg.field(5)\n",
    "    FRAME_WIDTH  : ctypes.c_uint32   = dg.field(640)\n",
    "    FRAME_HEIGHT : ctypes.c_uint32   = dg.field(480)\n",
    "    ITERATIONS   : ctypes.c_uint32   = dg.field(1)\n",
    "\n",
    "    MEM_PADDING  : list  = dg.field(lambda:[\"RAND\"], dir='in')\n",
    "    MEM_REGIONS  : list  = dg.field(lambda:[\"RAND\"], dir='in')\n",
    "\n",
    "    FRAME_SIZE   : FRAME_SIZE_E  = dg.field(\"SMALL\") #Default to small frames if not specified\n",
    "    CONNECTION_TABLE : str = dg.field(None)\n",
    "\n",
    "    FRAMES : list = dg.field(lambda:[], dir='out')\n",
    "    #Provide C header type information (type, max length)\n",
    "    clist_info_lookup[\"FRAMES\"] = (Frame, MAX_FRAMES) \n",
    "\n",
    "DatagenParams.generate_hfields(DatagenParams.clist_info_lookup)\n",
    "\n",
    "#Order matters for C compile\n",
    "c_structs = [Frame, DatagenParams]"
   ]
  },
  {
   "cell_type": "markdown",
   "metadata": {},
   "source": [
    "### Datagen.write_outputs()\n",
    "\n",
    "Finally the user needs to pass c_defines, c_enums, c_structs to Datagen.write_outputs()."
   ]
  },
  {
   "cell_type": "code",
   "execution_count": 8,
   "metadata": {},
   "outputs": [],
   "source": [
    "class TemplateDatagen(dg.DatagenBase):\n",
    "    #...\n",
    "    def main(self):\n",
    "        # ...\n",
    "        \n",
    "        #Writes output YAML and generates datagen_types.h\n",
    "        self.write_outputs(structs =  c_structs,\n",
    "                            enums =  c_enums,\n",
    "                            defines = c_defines )"
   ]
  },
  {
   "cell_type": "markdown",
   "metadata": {},
   "source": [
    "The resulting datagen_types.h is included in the elf automatically and looks like the following. \n",
    "\n",
    "The autogenerated file is symlinked to the test run directory at:\n",
    "<tt>$RUNWS/include_files/datagen_types.h</tt>"
   ]
  },
  {
   "cell_type": "code",
   "execution_count": 9,
   "metadata": {},
   "outputs": [],
   "source": [
    "_=\"\"\"\n",
    "//\n",
    "// Auto-generated file - do not hand-edit\n",
    "//\n",
    "#ifndef __DATAGEN_TYPES_H__\n",
    "#define __DATAGEN_TYPES_H__\n",
    "\n",
    "#define MAX_FRAMES ( 11 ) \n",
    "#define NUM_MEM_PADDING ( 4 ) \n",
    "#define NUM_MEM_REGIONS ( 6 ) \n",
    "\n",
    "\n",
    "typedef enum {\n",
    "  ROM = 1,\n",
    "  RAM = 2,\n",
    "  CD = 3,\n",
    "  FLOPPY = 4,\n",
    "  MAGNET_TAPE = 5,\n",
    "  RAND = 6\n",
    "} MEM_REGIONS_E;\n",
    "\n",
    "typedef enum {\n",
    "  SMALL = 1,\n",
    "  TYPICAL = 2,\n",
    "  WIDE = 3,\n",
    "  TALL = 4,\n",
    "  LARGE = 5,\n",
    "  NUM_FRAMES_SIZES = 6\n",
    "} FRAME_SIZE_E;\n",
    "\n",
    "typedef struct Frame {\n",
    "   UINT32          width;\n",
    "   UINT32          height;\n",
    "   const char*     name;\n",
    "   UINT32          chksum;\n",
    "   UINT32          padding;\n",
    "   MEM_REGIONS_E   location;\n",
    "} Frame, *PFrame;\n",
    "\n",
    "typedef struct DatagenParams {\n",
    "   UINT32          FRAME_COUNT;\n",
    "   UINT32          FRAME_WIDTH;\n",
    "   UINT32          FRAME_HEIGHT;\n",
    "   UINT32          ITERATIONS;\n",
    "   FRAME_SIZE_E    FRAME_SIZE;\n",
    "   const char*     CONNECTION_TABLE;\n",
    "   Frame           FRAMES[11];\n",
    "} DatagenParams, *PDatagenParams;\n",
    "\n",
    "#endif // __DATAGEN_TYPES_H__\n",
    "\"\"\""
   ]
  },
  {
   "cell_type": "markdown",
   "metadata": {},
   "source": [
    "##  pyvsc Constrained Randomization \n",
    "\n",
    "Constained randomization is very familiar to anyone who has worked with UVM and SystemVerilog. The pyvsc library is a way to write System Verilog style constraints in python. \n",
    "\n",
    "For the features see:\n",
    "https://pyvsc.readthedocs.io/en/latest/"
   ]
  },
  {
   "cell_type": "markdown",
   "metadata": {},
   "source": [
    "### Updating a params object to include randomization \n",
    "Lets start with a simple datagen params object with a few simple fields which we want to randomly constrain: width and height. We will also have an overall frame size."
   ]
  },
  {
   "cell_type": "code",
   "execution_count": 10,
   "metadata": {},
   "outputs": [],
   "source": [
    "@dataclass\n",
    "class FrameParams(dg.YAMLParamsBase):\n",
    "    #None is used as the default value since we want to randomize by default\n",
    "    FRAME_SIZE : int = dg.field(None, dir='in')\n",
    "    FRAME_WIDTH  : int = dg.field(None)\n",
    "    FRAME_HEIGHT : int = dg.field(None)"
   ]
  },
  {
   "cell_type": "markdown",
   "metadata": {},
   "source": [
    "We would like to have a constraint for the following\n",
    "\n",
    "FRAME_SIZE = FRAME_DEPTH * FRAME_WIDTH * FRAME_HEIGHT\n",
    "\n",
    "We would also like for any (or all) four of these parameters to be able to be overrode from the yml input\n",
    "\n",
    "We could write a complex if/else sequential randomization. This quickly becomes a large mess unless you drastically cut back in scope of what you want to be controllable. Plus you likely will end up with very poor random distribution unless you are very careful. \n",
    "\n",
    "Instead we can use pyvsc. To do so, we need to make the following changes to our class:\n",
    "<ol>\n",
    "<li> Add the \"@vsc.randobj\" class decorator\n",
    "<li> Create random fields for each field you want to constrain.\n",
    "<li> Add the \"@rand_YML_override\" class decorator\n",
    "</ol>\n",
    "\n",
    "The \"@randobj\" class decorator is needed by the pyvsc library. It looks for pyvsc random types and constraints and provides the randomize() function. \n",
    "\n",
    "Random field names need to match the yml parameters, but with a \"rand_\" prefix.\n",
    "\n",
    "The \"@rand_YML_override\" class decorator ties rand_ prefixed fields with the yaml param fields which match. It creates a constraint if the value \"is not None\", otherwise it copies back the randomized value after randomization.\n",
    "\n",
    "@rand_dataclass evokes all three decoarators in the proper order.\n",
    "\n",
    "Random fields are configured using rand_field() which accepts a vsc random type and the parameters for that type. They do not need a typehint, so elipsis (...) is used as a \"don't care\"."
   ]
  },
  {
   "cell_type": "code",
   "execution_count": 11,
   "metadata": {},
   "outputs": [],
   "source": [
    "import vsc\n",
    "# from datagenDV.rand_params_base import rand_field, rand_YML_override\n",
    "\n",
    "#This order for the decorators is required!\n",
    "# @vsc.randobj\n",
    "# @dg.rand_YML_override\n",
    "# @dataclass\n",
    "\n",
    "#This single decorator replaces the three above\n",
    "@dg.rand_dataclass\n",
    "class FrameParams(dg.YAMLParamsBase):\n",
    "    # rand_field requires the vsc random class plus the needed parameters for that type\n",
    "    # In this case, we use the rand_bit_t with a size of 32 bits, but allocating extra space for size\n",
    "    FRAME_SIZE   : int = dg.rand_field(vsc.rand_bit_t, 64)\n",
    "    FRAME_WIDTH  : int = dg.rand_field(vsc.rand_bit_t, 32)\n",
    "    FRAME_HEIGHT : int = dg.rand_field(vsc.rand_bit_t, 32)\n"
   ]
  },
  {
   "cell_type": "markdown",
   "metadata": {},
   "source": [
    "If we create and randomize this object as written, then we can see the behavior without constraints"
   ]
  },
  {
   "cell_type": "code",
   "execution_count": 12,
   "metadata": {},
   "outputs": [
    {
     "name": "stdout",
     "output_type": "stream",
     "text": [
      "FrameParams(FRAME_SIZE=689432656712092297, FRAME_WIDTH=3906065455, FRAME_HEIGHT=3963503871)\n"
     ]
    }
   ],
   "source": [
    "frame = FrameParams()\n",
    "frame.randomize()\n",
    "print(frame)"
   ]
  },
  {
   "cell_type": "markdown",
   "metadata": {},
   "source": [
    "We can see that we got some unconstrained random uint32 values as expected.\n",
    "\n",
    "Now lets modify our class with some constraints. We will add constraints for max/min size and to calculate the size from each dimension.\n",
    "\n",
    "Constraints are specified with \"@constraint\" function decorators."
   ]
  },
  {
   "cell_type": "code",
   "execution_count": 13,
   "metadata": {},
   "outputs": [],
   "source": [
    "@dg.rand_dataclass\n",
    "class FrameParams(dg.YAMLParamsBase):\n",
    "    FRAME_SIZE   : int = dg.rand_field(vsc.rand_bit_t, 64)\n",
    "    FRAME_WIDTH  : int = dg.rand_field(vsc.rand_bit_t, 32)\n",
    "    FRAME_HEIGHT : int = dg.rand_field(vsc.rand_bit_t, 32)\n",
    "\n",
    "    @vsc.constraint\n",
    "    def sizes_c(self):\n",
    "        self.rand_FRAME_SIZE.inside(vsc.rangelist((16, 65536)))\n",
    "        # self.rand_FRAME_SIZE.not_inside(vsc.rangelist((10000, 20000)))\n",
    "        self.rand_FRAME_WIDTH.inside(vsc.rangelist((4, 256)))\n",
    "        self.rand_FRAME_HEIGHT.inside(vsc.rangelist((4, 256)))\n",
    "\n",
    "    @vsc.constraint\n",
    "    def frame_dimensions_c(self):\n",
    "        self.rand_FRAME_SIZE == self.rand_FRAME_WIDTH * self.rand_FRAME_HEIGHT\n",
    "    "
   ]
  },
  {
   "cell_type": "code",
   "execution_count": null,
   "metadata": {},
   "outputs": [],
   "source": []
  },
  {
   "cell_type": "markdown",
   "metadata": {},
   "source": [
    "Lets run again and see the results."
   ]
  },
  {
   "cell_type": "code",
   "execution_count": 14,
   "metadata": {},
   "outputs": [
    {
     "name": "stdout",
     "output_type": "stream",
     "text": [
      "FrameParams(FRAME_SIZE=3042, FRAME_WIDTH=18, FRAME_HEIGHT=169)\n"
     ]
    }
   ],
   "source": [
    "frame = FrameParams()\n",
    "frame.randomize()\n",
    "print(frame)\n",
    "\n",
    "assert frame.FRAME_SIZE == (frame.FRAME_WIDTH * frame.FRAME_HEIGHT), \\\n",
    "    \"Make sure we didn't overflow to get our answer :)\""
   ]
  },
  {
   "cell_type": "markdown",
   "metadata": {},
   "source": [
    "The results show that our constraints modified the randomization correctly."
   ]
  },
  {
   "cell_type": "markdown",
   "metadata": {},
   "source": [
    "### Checking Random Distribution\n",
    "\n",
    "Lets plot the distributions if we randomize 1000 times. "
   ]
  },
  {
   "cell_type": "code",
   "execution_count": 15,
   "metadata": {},
   "outputs": [
    {
     "data": {
      "image/png": "[encoded data removed]",
      "text/plain": [
       "<Figure size 1728x288 with 5 Axes>"
      ]
     },
     "metadata": {
      "needs_background": "light"
     },
     "output_type": "display_data"
    }
   ],
   "source": [
    "import matplotlib.pyplot as plt\n",
    "def randomize_and_graph_histograms(rand_class, N=1000):\n",
    "  class_inst = rand_class()\n",
    "  var_list = {}\n",
    "  #Randomize N times, collecting values for graphing\n",
    "  for i in range(0,N):\n",
    "    class_inst.randomize()\n",
    "    class_inst_vars =  vars(class_inst)\n",
    "    for v in class_inst_vars:\n",
    "      if v.startswith(\"rand\"):\n",
    "        var_list.setdefault(v, []).append(class_inst_vars[v].get_val())\n",
    "  \n",
    "  for i,k in enumerate(var_list.keys()):\n",
    "    if i % 5 == 0:\n",
    "      fig, axs = plt.subplots(1,5) \n",
    "    axs[i%5].hist(var_list[k], bins=500)\n",
    "    axs[i%5].set_title(k)\n",
    "    if i % 5 == 4:\n",
    "      fig.set_size_inches(24, 4)\n",
    "      fig.show()\n",
    "\n",
    "  if i % 5 != 4:\n",
    "    fig.set_size_inches(24, 4)\n",
    "    fig.show()\n",
    "      \n",
    "#Call our generic function with FrameParams and randomize it 10000 times  \n",
    "randomize_and_graph_histograms(FrameParams, N=100)"
   ]
  },
  {
   "cell_type": "markdown",
   "metadata": {},
   "source": [
    "We can see that random distribution isn't perfect and sometimes tends to stick to outside bounds. This isn't too surprising given the constraints we gave (multiplication constraint).\n",
    "\n",
    "Test writers should investigate what kind of distribution they get from their constraints and determine if it is sufficient."
   ]
  },
  {
   "cell_type": "markdown",
   "metadata": {},
   "source": [
    "### Params Constraining Randomization\n",
    "Now lets show how we can control the randomization through non-rand params. This would typically be through test yaml params."
   ]
  },
  {
   "cell_type": "code",
   "execution_count": 16,
   "metadata": {},
   "outputs": [
    {
     "name": "stdout",
     "output_type": "stream",
     "text": [
      "First we'll try to constrain FRAME_SIZE\n",
      "FrameParams(FRAME_SIZE=2048, FRAME_WIDTH=32, FRAME_HEIGHT=64)\n"
     ]
    }
   ],
   "source": [
    "print(\"First we'll try to constrain FRAME_SIZE\")\n",
    "frame = FrameParams(FRAME_SIZE=2048)\n",
    "frame.randomize()\n",
    "print(frame)"
   ]
  },
  {
   "cell_type": "code",
   "execution_count": 17,
   "metadata": {},
   "outputs": [
    {
     "name": "stdout",
     "output_type": "stream",
     "text": [
      "Now constrain WIDTH\n",
      "FrameParams(FRAME_SIZE=28800, FRAME_WIDTH=128, FRAME_HEIGHT=225)\n"
     ]
    }
   ],
   "source": [
    "print(\"Now constrain WIDTH\")\n",
    "frame = FrameParams(FRAME_WIDTH=128)\n",
    "frame.randomize()\n",
    "print(frame)"
   ]
  },
  {
   "cell_type": "markdown",
   "metadata": {},
   "source": [
    "If we try to override our values with out of bound values, then our constraints will fail and inform the user.\n",
    "\n",
    "It is recommended to call randomize with solve_fail_debug=1 to print information on the failing constraint."
   ]
  },
  {
   "cell_type": "code",
   "execution_count": 18,
   "metadata": {},
   "outputs": [
    {
     "name": "stdout",
     "output_type": "stream",
     "text": [
      "We can also catch out of bound overrides\n",
      "Problem Set: 2 constraints\n",
      "  <unknown>:\n",
      "    rand_FRAME_SIZE in [16..65536];\n",
      "  <unknown>:\n",
      "    (rand_FRAME_SIZE == 1000000);\n",
      "\n",
      "We failed to solve!\n"
     ]
    }
   ],
   "source": [
    "print(\"We can also catch out of bound overrides\")\n",
    "frame = FrameParams(FRAME_SIZE=1000000)\n",
    "try:\n",
    "    frame.randomize(solve_fail_debug=1)\n",
    "except vsc.SolveFailure:\n",
    "    print(\"We failed to solve!\")\n"
   ]
  },
  {
   "cell_type": "markdown",
   "metadata": {},
   "source": [
    "For more examples on how to use pyvsc to write more complex constraints, see the documentation: https://pyvsc.readthedocs.io/\n",
    "\n",
    "You can also search the github for examples: https://github.com/fvutils/pyvsc"
   ]
  },
  {
   "cell_type": "code",
   "execution_count": null,
   "metadata": {},
   "outputs": [],
   "source": []
  }
 ],
 "metadata": {
  "kernelspec": {
   "display_name": "Python 3.6.8 ('python36_venv')",
   "language": "python",
   "name": "python3"
  },
  "language_info": {
   "codemirror_mode": {
    "name": "ipython",
    "version": 3
   },
   "file_extension": ".py",
   "mimetype": "text/x-python",
   "name": "python",
   "nbconvert_exporter": "python",
   "pygments_lexer": "ipython3",
   "version": "3.6.8"
  },
  "orig_nbformat": 4,
  "vscode": {
   "interpreter": {
    "hash": "3ca667aaa8e8a8e1c0f1c730d527e69d02615efb5ef1a1cb7d22bb818fc2d6c8"
   }
  }
 },
 "nbformat": 4,
 "nbformat_minor": 2
}
