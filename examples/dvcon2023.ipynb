{
 "cells": [
  {
   "cell_type": "markdown",
   "metadata": {},
   "source": [
    "Common definitions"
   ]
  },
  {
   "cell_type": "code",
   "execution_count": 1,
   "metadata": {},
   "outputs": [],
   "source": [
    "import sys\n",
    "sys.path.append( '..' )\n",
    "\n",
    "from enum import IntEnum\n",
    "class FRAME_SIZE_E(IntEnum):\n",
    "    SMALL = 1\n",
    "    TYPICAL = 2\n",
    "    WIDE = 3\n",
    "    TALL = 4\n",
    "    LARGE = 5\n",
    "    NUM_FRAMES_SIZES = 6\n"
   ]
  },
  {
   "cell_type": "markdown",
   "metadata": {},
   "source": [
    "Vanilla Python Class example"
   ]
  },
  {
   "cell_type": "code",
   "execution_count": 2,
   "metadata": {},
   "outputs": [],
   "source": [
    "class MyPythonParams():\n",
    "    #Constructor\n",
    "    def __init__(self, FRAME_COUNT=5, \n",
    "                       FRAME_WIDTH=640, \n",
    "                       FRAME_HEIGHT=480, \n",
    "                       MEM_REGIONS=None,\n",
    "                       FRAME_SIZE=\"SMALL\"):\n",
    "        self.FRAME_COUNT = FRAME_COUNT\n",
    "        self.FRAME_WIDTH = FRAME_WIDTH\n",
    "        self.FRAME_HEIGHT = FRAME_HEIGHT\n",
    "        #Convert string to enum type\n",
    "        self.FRAME_SIZE = FRAME_SIZE_E[FRAME_SIZE]\n",
    "        #Mutatble defaults, such as lists, have to be handled carefully\n",
    "        self.MEM_REGIONS = MEM_REGIONS if MEM_REGIONS is not None else [\"RAM\"]\n",
    "\n",
    "    #string class representation\n",
    "    def __repr__(self):\n",
    "        return f\"pythonParams - \" + \\\n",
    "                f\"FRAME_COUNT: {self.FRAME_COUNT}, \" + \\\n",
    "                f\"FRAME_WIDTH: {self.FRAME_WIDTH}, \" + \\\n",
    "                f\"FRAME_HEIGHT: {self.FRAME_HEIGHT}, \" + \\\n",
    "                f\"FRAME_SIZE: {self.FRAME_SIZE.name}, \" + \\\n",
    "                f\"MEM_REGIONS: {self.MEM_REGIONS}\""
   ]
  },
  {
   "cell_type": "code",
   "execution_count": 3,
   "metadata": {},
   "outputs": [
    {
     "name": "stdout",
     "output_type": "stream",
     "text": [
      "pythonParams - FRAME_COUNT: 5, FRAME_WIDTH: 200, FRAME_HEIGHT: 480, FRAME_SIZE: LARGE, MEM_REGIONS: ['RAM']\n"
     ]
    }
   ],
   "source": [
    "params = MyPythonParams(FRAME_WIDTH=200, FRAME_SIZE=\"LARGE\")\n",
    "print(params)"
   ]
  },
  {
   "cell_type": "markdown",
   "metadata": {},
   "source": [
    "dataclasses class example\n",
    "\n",
    "No more manually creating \\_\\_init\\_\\_ and \\_\\_repr\\_\\_ functions\n",
    "\n",
    "\\_\\_post_init\\_\\_ is used to add custom \\_\\_init\\_\\_ behavior"
   ]
  },
  {
   "cell_type": "code",
   "execution_count": 4,
   "metadata": {},
   "outputs": [],
   "source": [
    "from dataclasses import dataclass, field\n",
    "\n",
    "@dataclass\n",
    "class MyDataclassesParams:\n",
    "    FRAME_COUNT  : int = field(default=5)\n",
    "    FRAME_WIDTH  : int = 640 # dataclass implies field(default=val)\n",
    "    FRAME_HEIGHT : int = field(default=480)\n",
    "    FRAME_SIZE   : FRAME_SIZE_E = field(default=\"SMALL\")\n",
    "    #dataclasses handles mutatable defaults cleaner with factory functions\n",
    "    MEM_REGIONS  : list = field(default_factory=lambda:[\"RAM\"])\n",
    "    \n",
    "    def __post_init__(self):\n",
    "      #Still need to convert that string input to an enum\n",
    "      self.FRAME_SIZE = FRAME_SIZE_E[self.FRAME_SIZE]"
   ]
  },
  {
   "cell_type": "code",
   "execution_count": 5,
   "metadata": {},
   "outputs": [
    {
     "name": "stdout",
     "output_type": "stream",
     "text": [
      "MyDataclassesParams(FRAME_COUNT=5, FRAME_WIDTH=200, FRAME_HEIGHT=480, FRAME_SIZE=<FRAME_SIZE_E.LARGE: 5>, MEM_REGIONS=['RAM'])\n"
     ]
    }
   ],
   "source": [
    "params = MyDataclassesParams(FRAME_WIDTH=200, FRAME_SIZE=\"LARGE\")\n",
    "print(params)"
   ]
  },
  {
   "cell_type": "markdown",
   "metadata": {},
   "source": [
    "DatagenDV class example"
   ]
  },
  {
   "cell_type": "code",
   "execution_count": 6,
   "metadata": {},
   "outputs": [],
   "source": [
    "import datagenDV as dg\n",
    "from dataclasses import dataclass\n",
    "\n",
    "@dataclass\n",
    "class MyDatagenParams(dg.ParamsBase):\n",
    "    FRAME_COUNT  : int = dg.field(5)\n",
    "    FRAME_WIDTH  : int = dg.field(640)\n",
    "    FRAME_HEIGHT : int = dg.field(480)\n",
    "    FRAME_SIZE   : FRAME_SIZE_E = dg.field(\"SMALL\")\n",
    "    MEM_REGIONS  : list = dg.field(lambda:[\"RAM\"])\n",
    "    \n",
    "    \n",
    "    \n",
    "    "
   ]
  },
  {
   "cell_type": "code",
   "execution_count": 7,
   "metadata": {},
   "outputs": [
    {
     "name": "stdout",
     "output_type": "stream",
     "text": [
      "MyDatagenParams(FRAME_COUNT=5, FRAME_WIDTH=200, FRAME_HEIGHT=480, FRAME_SIZE=<FRAME_SIZE_E.LARGE: 5>, MEM_REGIONS=['RAM'])\n"
     ]
    }
   ],
   "source": [
    "params = MyDatagenParams(FRAME_WIDTH=200, FRAME_SIZE=\"LARGE\")\n",
    "print(params)"
   ]
  },
  {
   "cell_type": "markdown",
   "metadata": {},
   "source": [
    "datagenDV also provides runtime warnings for bad types."
   ]
  },
  {
   "cell_type": "code",
   "execution_count": 8,
   "metadata": {},
   "outputs": [
    {
     "name": "stdout",
     "output_type": "stream",
     "text": [
      "<class '__main__.MyDatagenParams'> : Expected FRAME_WIDTH to be <class 'int'>, got <class 'str'>\n"
     ]
    }
   ],
   "source": [
    "try:\n",
    "    params = MyDatagenParams(FRAME_WIDTH=\"Not an integer\")\n",
    "except Exception as e:\n",
    "    print(e)"
   ]
  },
  {
   "cell_type": "markdown",
   "metadata": {},
   "source": [
    "YAML input/output"
   ]
  },
  {
   "cell_type": "code",
   "execution_count": 9,
   "metadata": {},
   "outputs": [],
   "source": [
    "@dataclass\n",
    "class MyDatagenYMLParams(dg.YAMLParamsBase):\n",
    "    #YAML fields\n",
    "    FRAME_COUNT  : int   = dg.field(5, dir='in_out')\n",
    "    FRAME_WIDTH  : int   = dg.field(640, dir='in_out')\n",
    "    FRAME_HEIGHT : int   = dg.field(480, dir='in_out')\n",
    "    MEM_REGIONS  : list  = dg.field(lambda:[\"RAM\"], dir='in')\n",
    "    FRAME_SIZE   : FRAME_SIZE_E  = dg.field(\"SMALL\", dir='in_out')\n",
    "    ADDRESS : int = dg.field(None, dir='out')\n",
    "    \n",
    "    "
   ]
  },
  {
   "cell_type": "code",
   "execution_count": 10,
   "metadata": {},
   "outputs": [],
   "source": [
    "input_yaml = \"\"\"\n",
    "param_example: !DatagenParams\n",
    "    FRAME_COUNT: 3\n",
    "    FRAME_HEIGHT: 320\n",
    "    MEM_REGIONS: \n",
    "        - ROM\n",
    "        - RAM \n",
    "    FRAME_SIZE : LARGE\n",
    "\"\"\""
   ]
  },
  {
   "cell_type": "code",
   "execution_count": 11,
   "metadata": {},
   "outputs": [
    {
     "name": "stdout",
     "output_type": "stream",
     "text": [
      "param_example: !DatagenParams\n",
      "  FRAME_COUNT: 3\n",
      "  FRAME_HEIGHT: 320\n",
      "  MEM_REGIONS:\n",
      "  - ROM\n",
      "  - RAM\n",
      "  FRAME_SIZE: LARGE\n",
      "param_example: DatagenParams\n",
      "  FRAME_COUNT: 3\n",
      "  FRAME_HEIGHT: 320\n",
      "  MEM_REGIONS:\n",
      "  - ROM\n",
      "  - RAM\n",
      "  FRAME_SIZE: LARGE\n"
     ]
    }
   ],
   "source": [
    "import sys\n",
    "#Setup\n",
    "from ruamel.yaml import YAML\n",
    "yaml = YAML()\n",
    "yaml.register_class(MyDatagenYMLParams)\n",
    "#Load\n",
    "data = yaml.load(input_yaml)\n",
    "#Modify\n",
    "data['param_example'].ADDRESS = 1234\n",
    "#Dump\n",
    "yaml.dump(data, sys.stdout)\n",
    "\n",
    "\n",
    "yaml.dump(data, sys.stdout, transform=lambda s: s.replace('!', ''))\n",
    "\n",
    "\n",
    "\n",
    "\n",
    "#FIXME - figure out the best way to allow !class name on dump optionally"
   ]
  },
  {
   "cell_type": "code",
   "execution_count": 12,
   "metadata": {},
   "outputs": [
    {
     "data": {
      "text/plain": [
       "'\\nparam_example: \\n  FRAME_COUNT: 3\\n  FRAME_WIDTH: 640\\n  FRAME_HEIGHT: 320\\n  FRAME_SIZE: LARGE\\n  ADDRESS: 1234\\n'"
      ]
     },
     "execution_count": 12,
     "metadata": {},
     "output_type": "execute_result"
    }
   ],
   "source": [
    "\"\"\"\n",
    "param_example: \n",
    "  FRAME_COUNT: 3\n",
    "  FRAME_WIDTH: 640\n",
    "  FRAME_HEIGHT: 320\n",
    "  FRAME_SIZE: LARGE\n",
    "  ADDRESS: 1234\n",
    "\"\"\""
   ]
  },
  {
   "cell_type": "markdown",
   "metadata": {},
   "source": []
  },
  {
   "attachments": {},
   "cell_type": "markdown",
   "metadata": {},
   "source": [
    "PyVSC Constrained Randomization"
   ]
  },
  {
   "attachments": {},
   "cell_type": "markdown",
   "metadata": {},
   "source": [
    "PyVSC standard implementation"
   ]
  },
  {
   "cell_type": "code",
   "execution_count": 13,
   "metadata": {},
   "outputs": [],
   "source": [
    "import vsc\n",
    "@vsc.randobj\n",
    "class FrameParams():\n",
    "    def __init__(self):\n",
    "        self.FRAME_SIZE = vsc.rand_bit_t(64)\n",
    "        self.FRAME_WIDTH = vsc.rand_bit_t(32)\n",
    "        self.FRAME_HEIGHT = vsc.rand_bit_t(32)\n",
    "        \n",
    "    @vsc.constraint\n",
    "    def frame_dimensions_c(self):\n",
    "        self.FRAME_SIZE == self.FRAME_WIDTH * self.FRAME_HEIGHT"
   ]
  },
  {
   "attachments": {},
   "cell_type": "markdown",
   "metadata": {},
   "source": [
    "Datagen PyVSC implementation"
   ]
  },
  {
   "cell_type": "code",
   "execution_count": 14,
   "metadata": {},
   "outputs": [],
   "source": [
    "import vsc\n",
    "@dg.rand_dataclass\n",
    "class FrameParams(dg.YAMLParamsBase):\n",
    "    FRAME_SIZE : int = dg.rand_field(vsc.rand_bit_t, 64)\n",
    "    FRAME_WIDTH  : int = dg.rand_field(vsc.rand_bit_t, 32)\n",
    "    FRAME_HEIGHT : int = dg.rand_field(vsc.rand_bit_t, 32)\n"
   ]
  },
  {
   "cell_type": "code",
   "execution_count": 15,
   "metadata": {},
   "outputs": [
    {
     "name": "stdout",
     "output_type": "stream",
     "text": [
      "FrameParams(FRAME_SIZE=14551216839445579389, FRAME_WIDTH=427695337, FRAME_HEIGHT=2373505163)\n"
     ]
    }
   ],
   "source": [
    "inst = FrameParams()\n",
    "inst.randomize()\n",
    "print(inst)"
   ]
  },
  {
   "attachments": {},
   "cell_type": "markdown",
   "metadata": {},
   "source": [
    "Add some constraints"
   ]
  },
  {
   "cell_type": "code",
   "execution_count": 16,
   "metadata": {},
   "outputs": [],
   "source": [
    "@dg.rand_dataclass\n",
    "class FrameParams(dg.YAMLParamsBase):\n",
    "    FRAME_SIZE   : int = dg.rand_field(vsc.rand_bit_t, 64)\n",
    "    FRAME_WIDTH  : int = dg.rand_field(vsc.rand_bit_t, 32)\n",
    "    FRAME_HEIGHT : int = dg.rand_field(vsc.rand_bit_t, 32)\n",
    "    \n",
    "    @vsc.constraint\n",
    "    def frame_dimensions_c(self):\n",
    "        self.rand_FRAME_SIZE == self.rand_FRAME_WIDTH * self.rand_FRAME_HEIGHT\n",
    "\n",
    "    @vsc.constraint\n",
    "    def sizes_c(self):\n",
    "        self.rand_FRAME_SIZE.inside(vsc.rangelist((16, 65536)))\n",
    "        self.rand_FRAME_WIDTH.inside(vsc.rangelist((4, 256)))\n",
    "        self.rand_FRAME_HEIGHT.inside(vsc.rangelist((4, 256)))\n"
   ]
  },
  {
   "cell_type": "code",
   "execution_count": 17,
   "metadata": {},
   "outputs": [
    {
     "name": "stdout",
     "output_type": "stream",
     "text": [
      "FrameParams(FRAME_SIZE=15563, FRAME_WIDTH=197, FRAME_HEIGHT=79)\n"
     ]
    }
   ],
   "source": [
    "inst = FrameParams()\n",
    "inst.randomize()\n",
    "print(inst)"
   ]
  },
  {
   "cell_type": "code",
   "execution_count": 18,
   "metadata": {},
   "outputs": [
    {
     "name": "stdout",
     "output_type": "stream",
     "text": [
      "FrameParams(FRAME_SIZE=22200, FRAME_WIDTH=100, FRAME_HEIGHT=222)\n"
     ]
    }
   ],
   "source": [
    "inst = FrameParams(FRAME_WIDTH=100)\n",
    "inst.randomize()\n",
    "print(inst)"
   ]
  },
  {
   "attachments": {},
   "cell_type": "markdown",
   "metadata": {},
   "source": [
    "What if you want to check your random distribution? Python makes it easy with matplotlib\n"
   ]
  },
  {
   "cell_type": "code",
   "execution_count": 19,
   "metadata": {},
   "outputs": [
    {
     "data": {
      "image/png": "[encoded data removed]",
      "text/plain": [
       "<Figure size 1728x288 with 3 Axes>"
      ]
     },
     "metadata": {
      "needs_background": "light"
     },
     "output_type": "display_data"
    }
   ],
   "source": [
    "import matplotlib.pyplot as plt\n",
    "def randomize_and_graph_histograms(rand_class, N=10000):\n",
    "    class_inst = rand_class()\n",
    "    var_list = {}\n",
    "    #Randomize N times, collecting values for graphing\n",
    "    for i in range(0,N):\n",
    "        class_inst.randomize()\n",
    "        class_inst_vars =  vars(class_inst)\n",
    "        for v in class_inst_vars:\n",
    "            if v.startswith(\"rand\"):\n",
    "                var_list.setdefault(v, []).append(class_inst_vars[v].get_val())\n",
    "  \n",
    "    fig, axs = plt.subplots(1,len(var_list)) \n",
    "    for i,k in enumerate(var_list.keys()):\n",
    "        axs[i].hist(var_list[k], bins=500)\n",
    "        axs[i].set_title(k)\n",
    "\n",
    "    fig.set_size_inches(24, 4)\n",
    "    fig.show()\n",
    "      \n",
    "#Call our generic function with FrameParams and randomize it 10000 times  \n",
    "randomize_and_graph_histograms(FrameParams, N=10000)"
   ]
  },
  {
   "cell_type": "markdown",
   "metadata": {},
   "source": [
    "Ctypes binary creation and loading"
   ]
  }
 ],
 "metadata": {
  "kernelspec": {
   "display_name": "python36_venv",
   "language": "python",
   "name": "python3"
  },
  "language_info": {
   "codemirror_mode": {
    "name": "ipython",
    "version": 3
   },
   "file_extension": ".py",
   "mimetype": "text/x-python",
   "name": "python",
   "nbconvert_exporter": "python",
   "pygments_lexer": "ipython3",
   "version": "3.6.8"
  },
  "orig_nbformat": 4,
  "vscode": {
   "interpreter": {
    "hash": "3ca667aaa8e8a8e1c0f1c730d527e69d02615efb5ef1a1cb7d22bb818fc2d6c8"
   }
  }
 },
 "nbformat": 4,
 "nbformat_minor": 2
}
