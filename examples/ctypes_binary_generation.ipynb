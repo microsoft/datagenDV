{
 "cells": [
  {
   "cell_type": "code",
   "execution_count": 1,
   "metadata": {},
   "outputs": [],
   "source": [
    "from dataclasses import dataclass\n",
    "import ctypes\n",
    "import os, sys\n",
    "from enum import IntEnum\n",
    "\n",
    "sys.path.append( '..' )\n",
    "from datagenDV import *"
   ]
  },
  {
   "cell_type": "code",
   "execution_count": 2,
   "metadata": {},
   "outputs": [],
   "source": [
    "class MEM_REGIONS_E(IntEnum):\n",
    "    ROM = 1\n",
    "    RAM = 2\n",
    "    CD = 3\n",
    "    FLOPPY = 4\n",
    "    MAGNET_TAPE = 5\n",
    "    RAND = 6\n",
    "\n",
    "c_enums = [MEM_REGIONS_E]\n",
    "\n",
    "@dataclass\n",
    "class FrameData(YAMLParamsBase, ctypes.Structure):\n",
    "    width : ctypes.c_uint32\n",
    "    height : ctypes.c_uint32\n",
    "    chksum : ctypes.c_uint32\n",
    "    padding : ctypes.c_uint32\n",
    "    location : MEM_REGIONS_E\n",
    "\n",
    "FrameData.generate_hfields()\n",
    "c_structs = [FrameData]\n"
   ]
  },
  {
   "cell_type": "code",
   "execution_count": 3,
   "metadata": {},
   "outputs": [],
   "source": [
    "if not os.path.exists('out'):\n",
    "  os.mkdir('out')\n",
    "with open(\"out/frame.h\", 'w') as fh:\n",
    "    ctypes_helper.write_enum_type_defs(fh, enums=[MEM_REGIONS_E])\n",
    "    ctypes_helper.write_ctype_structs(fh, ctype_structs=[FrameData], use_hfields=True)\n",
    "myFrame = FrameData( width=0xABCD, height=0x1234, chksum=0x9876, padding=0x5432, location=MEM_REGIONS_E.RAND)"
   ]
  },
  {
   "cell_type": "code",
   "execution_count": 4,
   "metadata": {},
   "outputs": [
    {
     "name": "stdout",
     "output_type": "stream",
     "text": [
      "\n",
      "typedef enum {\n",
      "  ROM = 1,\n",
      "  RAM = 2,\n",
      "  CD = 3,\n",
      "  FLOPPY = 4,\n",
      "  MAGNET_TAPE = 5,\n",
      "  RAND = 6\n",
      "} MEM_REGIONS_E;\n",
      "\n",
      "typedef struct FrameData {\n",
      "   unsigned int    width;\n",
      "   unsigned int    height;\n",
      "   unsigned int    chksum;\n",
      "   unsigned int    padding;\n",
      "   MEM_REGIONS_E   location;\n",
      "} FrameData, *PFrameData;\n",
      "\n"
     ]
    }
   ],
   "source": [
    "!cat out/frame.h"
   ]
  },
  {
   "cell_type": "code",
   "execution_count": 5,
   "metadata": {},
   "outputs": [],
   "source": [
    "# FrameData_ctype = create_ctype_class('FrameData_ctypes', ctypes.Structure,\n",
    "#                            convert_hfields_to_fields(FrameData._hfields_))\n",
    "\n",
    "# myFrame_dict = {dc_field.name: getattr(myFrame,dc_field.name) for dc_field in dataclasses.fields(myFrame) }\n",
    "# myFrame_ctype = FrameData_ctype(**myFrame_dict)\n",
    "# with open(\"out/framedata_output.bin\", 'wb') as fh:\n",
    "#     fh.write(myFrame_ctype)\n",
    "    \n",
    "# !hexdump -x out/framedata_output.bin"
   ]
  },
  {
   "cell_type": "code",
   "execution_count": 6,
   "metadata": {},
   "outputs": [
    {
     "name": "stdout",
     "output_type": "stream",
     "text": [
      "0000000    abcd    0000    1234    0000    9876    0000    5432    0000\n",
      "0000010    0006    0000                                                \n",
      "0000014\n"
     ]
    }
   ],
   "source": [
    "ctypes_helper.write_ctype_obj_binary(myFrame, \"out/framedata_output.bin\")\n",
    "!hexdump -x out/framedata_output.bin"
   ]
  },
  {
   "cell_type": "code",
   "execution_count": 7,
   "metadata": {},
   "outputs": [],
   "source": [
    "c_test_code = \"\"\"\n",
    "#include <stdio.h>\n",
    "#include <stdlib.h>\n",
    "#include \"frame.h\"\n",
    "int main()\n",
    "{\n",
    "    FILE* frame_fh = fopen(\"framedata_output.bin\", \"rb\");\n",
    "    FrameData* myFrame = malloc(sizeof(FrameData ));\n",
    "    fread(myFrame, sizeof(FrameData), 1, frame_fh);\n",
    "    printf(\"width 0x%x height 0x%x chksum 0x%x padding 0x%x location 0x%x\\\\n\", \n",
    "      myFrame->width, myFrame->height, myFrame->chksum, myFrame->padding,  myFrame->location);\n",
    "    fclose(frame_fh);\n",
    "}\n",
    "\"\"\"\n",
    "\n",
    "with open(\"out/c_test.c\", 'w') as fh:\n",
    "    fh.write(c_test_code)"
   ]
  },
  {
   "cell_type": "code",
   "execution_count": 8,
   "metadata": {},
   "outputs": [],
   "source": [
    "!gcc out/frame.h  out/c_test.c -o  out/c_test_exe"
   ]
  },
  {
   "cell_type": "code",
   "execution_count": 9,
   "metadata": {},
   "outputs": [
    {
     "name": "stdout",
     "output_type": "stream",
     "text": [
      "width 0xabcd height 0x1234 chksum 0x9876 padding 0x5432 location 0x6\n"
     ]
    }
   ],
   "source": [
    "!cd out && c_test_exe"
   ]
  }
 ],
 "metadata": {
  "kernelspec": {
   "display_name": "Python 3.6.8 ('python36_venv')",
   "language": "python",
   "name": "python3"
  },
  "language_info": {
   "codemirror_mode": {
    "name": "ipython",
    "version": 3
   },
   "file_extension": ".py",
   "mimetype": "text/x-python",
   "name": "python",
   "nbconvert_exporter": "python",
   "pygments_lexer": "ipython3",
   "version": "3.6.8"
  },
  "orig_nbformat": 4,
  "vscode": {
   "interpreter": {
    "hash": "3ca667aaa8e8a8e1c0f1c730d527e69d02615efb5ef1a1cb7d22bb818fc2d6c8"
   }
  }
 },
 "nbformat": 4,
 "nbformat_minor": 2
}
